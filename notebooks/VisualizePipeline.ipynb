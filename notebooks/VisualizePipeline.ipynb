{
 "cells": [
  {
   "cell_type": "markdown",
   "metadata": {},
   "source": [
    "#### This short notebook shows you how you can see how your own images are processed"
   ]
  },
  {
   "cell_type": "markdown",
   "metadata": {},
   "source": [
    "Imports and adding /src to current PATH"
   ]
  },
  {
   "cell_type": "code",
   "execution_count": 1,
   "metadata": {},
   "outputs": [],
   "source": [
    "import os\n",
    "import sys\n",
    "import matplotlib.pyplot as plt\n",
    "import seaborn as sns\n",
    "import cv2\n",
    "import numpy as np\n",
    "%matplotlib inline\n",
    "\n",
    "module_path = os.path.abspath(\n",
    "    os.path.join(os.path.abspath('.'), '../src'))\n",
    "sys.path.insert(0, module_path)"
   ]
  },
  {
   "cell_type": "markdown",
   "metadata": {},
   "source": [
    "Now we can import form /src:"
   ]
  },
  {
   "cell_type": "code",
   "execution_count": 2,
   "metadata": {},
   "outputs": [],
   "source": [
    "from sudoku import Sudoku"
   ]
  },
  {
   "cell_type": "markdown",
   "metadata": {},
   "source": [
    "Now we can load any sudoku image you may have lying around:"
   ]
  },
  {
   "cell_type": "code",
   "execution_count": 4,
   "metadata": {},
   "outputs": [
    {
     "ename": "OSError",
     "evalue": "No file or directory found at c:\\Users\\dell\\Downloads\\chicago cirmes project\\sudoku-scanner-master\\models\\modelv2.h5",
     "output_type": "error",
     "traceback": [
      "\u001b[1;31m---------------------------------------------------------------------------\u001b[0m",
      "\u001b[1;31mOSError\u001b[0m                                   Traceback (most recent call last)",
      "\u001b[1;32mc:\\Users\\dell\\Downloads\\chicago cirmes project\\sudoku-scanner-master\\notebooks\\VisualizePipeline.ipynb Cell 7'\u001b[0m in \u001b[0;36m<cell line: 5>\u001b[1;34m()\u001b[0m\n\u001b[0;32m      <a href='vscode-notebook-cell:/c%3A/Users/dell/Downloads/chicago%20cirmes%20project/sudoku-scanner-master/notebooks/VisualizePipeline.ipynb#ch0000006?line=2'>3</a>\u001b[0m sudoku \u001b[39m=\u001b[39m Sudoku(FILE_NAME, save_steps\u001b[39m=\u001b[39m\u001b[39mTrue\u001b[39;00m)\n\u001b[0;32m      <a href='vscode-notebook-cell:/c%3A/Users/dell/Downloads/chicago%20cirmes%20project/sudoku-scanner-master/notebooks/VisualizePipeline.ipynb#ch0000006?line=3'>4</a>\u001b[0m sudoku\u001b[39m.\u001b[39mprocess()\n\u001b[1;32m----> <a href='vscode-notebook-cell:/c%3A/Users/dell/Downloads/chicago%20cirmes%20project/sudoku-scanner-master/notebooks/VisualizePipeline.ipynb#ch0000006?line=4'>5</a>\u001b[0m sudoku\u001b[39m.\u001b[39;49mpredict()\n",
      "File \u001b[1;32mc:\\Users\\dell\\Downloads\\chicago cirmes project\\sudoku-scanner-master\\src\\sudoku.py:79\u001b[0m, in \u001b[0;36mSudoku.predict\u001b[1;34m(self, model_file)\u001b[0m\n\u001b[0;32m     <a href='file:///c%3A/Users/dell/Downloads/chicago%20cirmes%20project/sudoku-scanner-master/src/sudoku.py?line=71'>72</a>\u001b[0m \u001b[39mdef\u001b[39;00m \u001b[39mpredict\u001b[39m(\u001b[39mself\u001b[39m, model_file\u001b[39m=\u001b[39mMODEL_FILE):\n\u001b[0;32m     <a href='file:///c%3A/Users/dell/Downloads/chicago%20cirmes%20project/sudoku-scanner-master/src/sudoku.py?line=72'>73</a>\u001b[0m     \u001b[39m\"\"\"\u001b[39;00m\n\u001b[0;32m     <a href='file:///c%3A/Users/dell/Downloads/chicago%20cirmes%20project/sudoku-scanner-master/src/sudoku.py?line=73'>74</a>\u001b[0m \u001b[39m    Loads a Keras model with input (None, 1024) and saves digit\u001b[39;00m\n\u001b[0;32m     <a href='file:///c%3A/Users/dell/Downloads/chicago%20cirmes%20project/sudoku-scanner-master/src/sudoku.py?line=74'>75</a>\u001b[0m \u001b[39m    predictions to attribute digits.\u001b[39;00m\n\u001b[0;32m     <a href='file:///c%3A/Users/dell/Downloads/chicago%20cirmes%20project/sudoku-scanner-master/src/sudoku.py?line=75'>76</a>\u001b[0m \u001b[39m    \"\"\"\u001b[39;00m\n\u001b[1;32m---> <a href='file:///c%3A/Users/dell/Downloads/chicago%20cirmes%20project/sudoku-scanner-master/src/sudoku.py?line=78'>79</a>\u001b[0m     model \u001b[39m=\u001b[39m load_model(model_file, \u001b[39mcompile\u001b[39;49m\u001b[39m=\u001b[39;49m\u001b[39mFalse\u001b[39;49;00m)\n\u001b[0;32m     <a href='file:///c%3A/Users/dell/Downloads/chicago%20cirmes%20project/sudoku-scanner-master/src/sudoku.py?line=80'>81</a>\u001b[0m     \u001b[39mself\u001b[39m\u001b[39m.\u001b[39mpredictions \u001b[39m=\u001b[39m np\u001b[39m.\u001b[39marray(\n\u001b[0;32m     <a href='file:///c%3A/Users/dell/Downloads/chicago%20cirmes%20project/sudoku-scanner-master/src/sudoku.py?line=81'>82</a>\u001b[0m         [\u001b[39m0\u001b[39m \u001b[39mif\u001b[39;00m digit \u001b[39mis\u001b[39;00m \u001b[39mNone\u001b[39;00m \u001b[39melse\u001b[39;00m \u001b[39m-\u001b[39m\u001b[39m1\u001b[39m \u001b[39mfor\u001b[39;00m digit \u001b[39min\u001b[39;00m \u001b[39mself\u001b[39m\u001b[39m.\u001b[39mdigits])\n\u001b[0;32m     <a href='file:///c%3A/Users/dell/Downloads/chicago%20cirmes%20project/sudoku-scanner-master/src/sudoku.py?line=83'>84</a>\u001b[0m     digits_arr \u001b[39m=\u001b[39m np\u001b[39m.\u001b[39marray(\n\u001b[0;32m     <a href='file:///c%3A/Users/dell/Downloads/chicago%20cirmes%20project/sudoku-scanner-master/src/sudoku.py?line=84'>85</a>\u001b[0m         [digit \u001b[39mfor\u001b[39;00m digit \u001b[39min\u001b[39;00m \u001b[39mself\u001b[39m\u001b[39m.\u001b[39mdigits \u001b[39mif\u001b[39;00m digit \u001b[39mis\u001b[39;00m \u001b[39mnot\u001b[39;00m \u001b[39mNone\u001b[39;00m])\n",
      "File \u001b[1;32mc:\\Users\\dell\\AppData\\Local\\Programs\\Python\\Python39\\lib\\site-packages\\keras\\utils\\traceback_utils.py:67\u001b[0m, in \u001b[0;36mfilter_traceback.<locals>.error_handler\u001b[1;34m(*args, **kwargs)\u001b[0m\n\u001b[0;32m     <a href='file:///c%3A/Users/dell/AppData/Local/Programs/Python/Python39/lib/site-packages/keras/utils/traceback_utils.py?line=64'>65</a>\u001b[0m \u001b[39mexcept\u001b[39;00m \u001b[39mException\u001b[39;00m \u001b[39mas\u001b[39;00m e:  \u001b[39m# pylint: disable=broad-except\u001b[39;00m\n\u001b[0;32m     <a href='file:///c%3A/Users/dell/AppData/Local/Programs/Python/Python39/lib/site-packages/keras/utils/traceback_utils.py?line=65'>66</a>\u001b[0m   filtered_tb \u001b[39m=\u001b[39m _process_traceback_frames(e\u001b[39m.\u001b[39m__traceback__)\n\u001b[1;32m---> <a href='file:///c%3A/Users/dell/AppData/Local/Programs/Python/Python39/lib/site-packages/keras/utils/traceback_utils.py?line=66'>67</a>\u001b[0m   \u001b[39mraise\u001b[39;00m e\u001b[39m.\u001b[39mwith_traceback(filtered_tb) \u001b[39mfrom\u001b[39;00m \u001b[39mNone\u001b[39m\n\u001b[0;32m     <a href='file:///c%3A/Users/dell/AppData/Local/Programs/Python/Python39/lib/site-packages/keras/utils/traceback_utils.py?line=67'>68</a>\u001b[0m \u001b[39mfinally\u001b[39;00m:\n\u001b[0;32m     <a href='file:///c%3A/Users/dell/AppData/Local/Programs/Python/Python39/lib/site-packages/keras/utils/traceback_utils.py?line=68'>69</a>\u001b[0m   \u001b[39mdel\u001b[39;00m filtered_tb\n",
      "File \u001b[1;32mc:\\Users\\dell\\AppData\\Local\\Programs\\Python\\Python39\\lib\\site-packages\\keras\\saving\\save.py:206\u001b[0m, in \u001b[0;36mload_model\u001b[1;34m(filepath, custom_objects, compile, options)\u001b[0m\n\u001b[0;32m    <a href='file:///c%3A/Users/dell/AppData/Local/Programs/Python/Python39/lib/site-packages/keras/saving/save.py?line=203'>204</a>\u001b[0m \u001b[39mif\u001b[39;00m \u001b[39misinstance\u001b[39m(filepath_str, \u001b[39mstr\u001b[39m):\n\u001b[0;32m    <a href='file:///c%3A/Users/dell/AppData/Local/Programs/Python/Python39/lib/site-packages/keras/saving/save.py?line=204'>205</a>\u001b[0m   \u001b[39mif\u001b[39;00m \u001b[39mnot\u001b[39;00m tf\u001b[39m.\u001b[39mio\u001b[39m.\u001b[39mgfile\u001b[39m.\u001b[39mexists(filepath_str):\n\u001b[1;32m--> <a href='file:///c%3A/Users/dell/AppData/Local/Programs/Python/Python39/lib/site-packages/keras/saving/save.py?line=205'>206</a>\u001b[0m     \u001b[39mraise\u001b[39;00m \u001b[39mIOError\u001b[39;00m(\u001b[39mf\u001b[39m\u001b[39m'\u001b[39m\u001b[39mNo file or directory found at \u001b[39m\u001b[39m{\u001b[39;00mfilepath_str\u001b[39m}\u001b[39;00m\u001b[39m'\u001b[39m)\n\u001b[0;32m    <a href='file:///c%3A/Users/dell/AppData/Local/Programs/Python/Python39/lib/site-packages/keras/saving/save.py?line=207'>208</a>\u001b[0m   \u001b[39mif\u001b[39;00m tf\u001b[39m.\u001b[39mio\u001b[39m.\u001b[39mgfile\u001b[39m.\u001b[39misdir(filepath_str):\n\u001b[0;32m    <a href='file:///c%3A/Users/dell/AppData/Local/Programs/Python/Python39/lib/site-packages/keras/saving/save.py?line=208'>209</a>\u001b[0m     \u001b[39mreturn\u001b[39;00m saved_model_load\u001b[39m.\u001b[39mload(filepath_str, \u001b[39mcompile\u001b[39m, options)\n",
      "\u001b[1;31mOSError\u001b[0m: No file or directory found at c:\\Users\\dell\\Downloads\\chicago cirmes project\\sudoku-scanner-master\\models\\modelv2.h5"
     ]
    }
   ],
   "source": [
    "FILE_NAME = '1.jpg'  # CHANGE THIS\n",
    "\n",
    "sudoku = Sudoku(FILE_NAME, save_steps=True)\n",
    "sudoku.process()\n",
    "sudoku.predict()\n"
   ]
  },
  {
   "cell_type": "code",
   "execution_count": null,
   "metadata": {},
   "outputs": [],
   "source": [
    "img = cv2.imread(FILE_NAME)\n",
    "\n",
    "plt.imshow(img)\n",
    "plt.title('Soduko Picture before solving it ')\n",
    "plt.show()"
   ]
  },
  {
   "cell_type": "code",
   "execution_count": null,
   "metadata": {},
   "outputs": [
    {
     "data": {
      "text/plain": [
       "[array([0, 0, 0, 6, 0, 4, 7, 0, 0]),\n",
       " array([7, 0, 6, 0, 0, 0, 0, 0, 9]),\n",
       " array([0, 0, 0, 0, 0, 5, 0, 8, 0]),\n",
       " array([0, 7, 0, 0, 2, 0, 0, 9, 3]),\n",
       " array([8, 0, 0, 0, 0, 0, 0, 0, 5]),\n",
       " array([4, 3, 0, 0, 1, 0, 0, 7, 0]),\n",
       " array([0, 5, 0, 2, 0, 0, 0, 0, 0]),\n",
       " array([3, 0, 0, 0, 0, 0, 2, 0, 8]),\n",
       " array([0, 0, 2, 3, 0, 1, 0, 0, 0])]"
      ]
     },
     "execution_count": 7,
     "metadata": {},
     "output_type": "execute_result"
    }
   ],
   "source": [
    "Sudoku_nums = sudoku.get_predictions()\n",
    "Sudoku_nums = np.array_split(Sudoku_nums, len(Sudoku_nums)**0.5 )\n",
    "\n",
    "lis = []\n",
    "for i in Sudoku_nums:\n",
    "    for j in i:\n",
    "        lis.append(j)\n",
    "    #print(i)\n",
    "\n",
    "Sudoku_nums\n"
   ]
  },
  {
   "cell_type": "code",
   "execution_count": null,
   "metadata": {},
   "outputs": [],
   "source": [
    "FOLDER_NAME = 'images'  # CHANGE THIS (make sure the directory already exists)\n",
    "\n",
    "for i, step in enumerate(sudoku.steps):\n",
    "    filename = f'{FOLDER_NAME}/step{i}.jpg'\n",
    "    img = cv2.imwrite(filename, step)\n"
   ]
  },
  {
   "cell_type": "markdown",
   "metadata": {},
   "source": [
    "Steps shown below"
   ]
  },
  {
   "cell_type": "code",
   "execution_count": null,
   "metadata": {},
   "outputs": [],
   "source": [
    "img = cv2.imread('images/step0.jpg')\n",
    "\n",
    "plt.imshow(img)\n",
    "plt.title('Step 0 ')\n",
    "plt.show()"
   ]
  },
  {
   "cell_type": "code",
   "execution_count": null,
   "metadata": {},
   "outputs": [],
   "source": [
    "img = cv2.imread('images/step1.jpg')\n",
    "\n",
    "plt.imshow(img)\n",
    "plt.title('Step 1 ')\n",
    "plt.show()"
   ]
  },
  {
   "cell_type": "code",
   "execution_count": null,
   "metadata": {},
   "outputs": [],
   "source": [
    "img = cv2.imread('images/step2.jpg')\n",
    "\n",
    "plt.imshow(img)\n",
    "plt.title('Step 2 ')\n",
    "plt.show()"
   ]
  },
  {
   "cell_type": "code",
   "execution_count": null,
   "metadata": {},
   "outputs": [],
   "source": [
    "img = cv2.imread('images/step3.jpg')\n",
    "\n",
    "plt.imshow(img)\n",
    "plt.title('Step 3 ')\n",
    "plt.show()"
   ]
  },
  {
   "cell_type": "markdown",
   "metadata": {},
   "source": [
    "# Solve Sudoku"
   ]
  },
  {
   "cell_type": "code",
   "execution_count": null,
   "metadata": {},
   "outputs": [
    {
     "name": "stdout",
     "output_type": "stream",
     "text": [
      "---\n"
     ]
    },
    {
     "data": {
      "text/plain": [
       "[array([5, 8, 3, 6, 9, 4, 7, 2, 1]),\n",
       " array([7, 1, 6, 8, 3, 2, 5, 4, 9]),\n",
       " array([2, 9, 4, 1, 7, 5, 3, 8, 6]),\n",
       " array([6, 7, 1, 5, 2, 8, 4, 9, 3]),\n",
       " array([8, 2, 9, 7, 4, 3, 1, 6, 5]),\n",
       " array([4, 3, 5, 9, 1, 6, 8, 7, 2]),\n",
       " array([1, 5, 8, 2, 6, 7, 9, 3, 4]),\n",
       " array([3, 6, 7, 4, 5, 9, 2, 1, 8]),\n",
       " array([9, 4, 2, 3, 8, 1, 6, 5, 7])]"
      ]
     },
     "execution_count": 38,
     "metadata": {},
     "output_type": "execute_result"
    }
   ],
   "source": [
    "\n",
    "# A Backtracking program in Python to solve Sudoku problem \n",
    "\n",
    "def print_grid(arr): \n",
    "\tfor i in range(9): \n",
    "\t\tfor j in range(9): \n",
    "\t\t\tprint (arr[i][j])\n",
    "\t\tprint ('\\n') \n",
    "\n",
    "\n",
    "def find_empty_location(arr,l): \n",
    "\tfor row in range(9): \n",
    "\t\tfor col in range(9): \n",
    "\t\t\tif(arr[row][col]==0): \n",
    "\t\t\t\tl[0]=row \n",
    "\t\t\t\tl[1]=col \n",
    "\t\t\t\treturn True\n",
    "\treturn False\n",
    "# Returns a boolean which indicates whether any assigned entry \n",
    "# in the specified row matches the given number. \n",
    "\n",
    "def used_in_row(arr,row,num): \n",
    "\tfor i in range(9): \n",
    "\t\tif(arr[row][i] == num): \n",
    "\t\t\treturn True\n",
    "\treturn False\n",
    "# Returns a boolean which indicates whether any assigned entry \n",
    "# in the specified column matches the given number. \n",
    "\n",
    "def used_in_col(arr,col,num): \n",
    "\tfor i in range(9): \n",
    "\t\tif(arr[i][col] == num): \n",
    "\t\t\treturn True\n",
    "\treturn False\n",
    "\n",
    "# Returns a boolean which indicates whether any assigned entry \n",
    "# within the specified 3x3 box matches the given number\n",
    "def used_in_box(arr,row,col,num): \n",
    "\tfor i in range(3): \n",
    "\t\tfor j in range(3): \n",
    "\t\t\tif(arr[i+row][j+col] == num): \n",
    "\t\t\t\treturn True\n",
    "\treturn False\n",
    "\n",
    "# Checks whether it will be legal to assign num to the given row,col \n",
    "def check_location_is_safe(arr,row,col,num): \n",
    "\t\n",
    "\t# Check if 'num' is not already placed in current row, \n",
    "\t# current column and current 3x3 box \n",
    "\treturn not used_in_row(arr,row,num) and not used_in_col(arr,col,num) and not used_in_box(arr,row - row%3,col - col%3,num) \n",
    "\n",
    "# Takes a partially filled-in grid and attempts to assign values to \n",
    "# all unassigned locations in such a way to meet the requirements \n",
    "# for Sudoku solution (non-duplication across rows, columns, and boxes) \n",
    "def solve_sudoku(arr): \n",
    "\t\n",
    "\t# 'l' is a list variable that keeps the record of row and col in find_empty_location Function\t \n",
    "\tl=[0,0] \n",
    "\t\n",
    "\t# If there is no unassigned location, we are done\t\n",
    "\tif(not find_empty_location(arr,l)): \n",
    "\t\treturn True\n",
    "\t\t\n",
    "  \n",
    "  # Assigning list values to row and col that we got from the above Function \n",
    "\n",
    "\t\n",
    "\trow=l[0] \n",
    "\tcol=l[1] \n",
    "\t\n",
    "\t# consider digits 1 to 9 \n",
    "\tfor num in range(1,10): \n",
    "\t\t\n",
    "\t \n",
    "\t\tif(check_location_is_safe(arr,row,col,num)): \n",
    "\t\t\t\n",
    "\t\t\t# make tentative assignment \n",
    "\t\t\tarr[row][col]=num \n",
    "\n",
    "\t\t \n",
    "\t\t\tif(solve_sudoku(arr)): \n",
    "\t\t\t\treturn True\n",
    "\n",
    "\t\t\t\n",
    "\t\t\tarr[row][col] = 0\n",
    "\t\t\t\n",
    "\t# this triggers backtracking\t\t \n",
    "\treturn False\n",
    "\n",
    "\n",
    "\n",
    "# Driver main function to test above functions \n",
    "def sudoku_solver(grid):\n",
    "\tif(solve_sudoku(grid)):\n",
    "\t\tprint('---') \n",
    "\telse:\n",
    "\t\tprint (\"No solution exists\")\n",
    "\t\n",
    "\treturn grid\n",
    "\n",
    "\n",
    "ss = sudoku_solver(Sudoku_nums)\n",
    "ss"
   ]
  },
  {
   "cell_type": "markdown",
   "metadata": {},
   "source": [
    "And now to save these to your preferred location:"
   ]
  },
  {
   "cell_type": "code",
   "execution_count": null,
   "metadata": {},
   "outputs": [],
   "source": [
    "ss_lis = []\n",
    "for i in ss:\n",
    "    for j in i:\n",
    "        ss_lis.append(j)\n",
    "    #print(i)"
   ]
  },
  {
   "cell_type": "code",
   "execution_count": null,
   "metadata": {},
   "outputs": [
    {
     "data": {
      "image/png": "[encoded data removed]",
      "text/plain": [
       "<Figure size 432x288 with 1 Axes>"
      ]
     },
     "metadata": {
      "needs_background": "light"
     },
     "output_type": "display_data"
    }
   ],
   "source": [
    "def displayNumbers(img,numbers,color = (0,255,0)):\n",
    "    secW = int(img.shape[1]/9)\n",
    "    secH = int(img.shape[0]/9)\n",
    "    for x in range (0,9):\n",
    "        for y in range (0,9):\n",
    "            if numbers[(y*9)+x] != 0 :\n",
    "                 cv2.putText(img, str(numbers[(y*9)+x]),\n",
    "                               (x*secW+int(secW/2)-10, int((y+0.8)*secH)), cv2.FONT_HERSHEY_COMPLEX_SMALL,\n",
    "                            2, color, 2, cv2.LINE_AA)\n",
    "    return img\n",
    "\n",
    "img = cv2.imread(FILE_NAME)   \n",
    "#plt.imshow(img)\n",
    "heightImg = 450\n",
    "widthImg = 450\n",
    "imgBlank = np.zeros((heightImg, widthImg, 3), np.uint8)\n",
    "new = imgBlank.copy()\n",
    "\n",
    "new = displayNumbers(new, lis, color=(255, 255, 255))\n",
    "plt.axis(\"off\")\n",
    "plt.imshow(new);"
   ]
  },
  {
   "cell_type": "code",
   "execution_count": null,
   "metadata": {},
   "outputs": [
    {
     "data": {
      "image/png": "[encoded data removed]",
      "text/plain": [
       "<Figure size 432x288 with 1 Axes>"
      ]
     },
     "metadata": {
      "needs_background": "light"
     },
     "output_type": "display_data"
    }
   ],
   "source": [
    "def drawGrid(img):\n",
    "    secW = int(img.shape[1]/9)\n",
    "    secH = int(img.shape[0]/9)\n",
    "    for i in range (0,9):\n",
    "        pt1 = (0,secH*i)\n",
    "        pt2 = (img.shape[1],secH*i)\n",
    "        pt3 = (secW * i, 0)\n",
    "        pt4 = (secW*i,img.shape[0])\n",
    "        cv2.line(img, pt1, pt2, (255, 255, 255),5)\n",
    "        cv2.line(img, pt3, pt4, (255, 255, 255),5)\n",
    "    return img\n",
    "\n",
    "nn = displayNumbers(new, ss_lis, color=(255, 255, 255))\n",
    "nn = drawGrid(nn)\n",
    "plt.axis(\"off\")\n",
    "plt.imshow(nn);"
   ]
  },
  {
   "cell_type": "code",
   "execution_count": null,
   "metadata": {},
   "outputs": [],
   "source": []
  }
 ],
 "metadata": {
  "interpreter": {
   "hash": "f3a52463084db90f96d29dcfcfd9bf276dba3c521d76c4c38c835392b64a093b"
  },
  "kernelspec": {
   "display_name": "Python 3.8.8 ('base')",
   "language": "python",
   "name": "python3"
  },
  "language_info": {
   "codemirror_mode": {
    "name": "ipython",
    "version": 3
   },
   "file_extension": ".py",
   "mimetype": "text/x-python",
   "name": "python",
   "nbconvert_exporter": "python",
   "pygments_lexer": "ipython3",
   "version": "3.8.8"
  }
 },
 "nbformat": 4,
 "nbformat_minor": 2
}
